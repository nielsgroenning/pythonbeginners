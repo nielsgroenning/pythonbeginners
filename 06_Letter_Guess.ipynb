{
 "cells": [
  {
   "cell_type": "code",
   "execution_count": 16,
   "metadata": {},
   "outputs": [
    {
     "name": "stdout",
     "output_type": "stream",
     "text": [
      "Higher\n"
     ]
    }
   ],
   "source": [
    "#check_guess() takes 2 string arguments: letter and guess (both expect single alphabetical character)\n",
    "#- if guess is not an alpha character print invalid and return False - test and print if guess is \"high\" or \"low\" and return False - test and print if guess is \"correct\" and return True\n",
    "\n",
    "# [ ] create check_guess()\n",
    "def check_guess(letter,guess):\n",
    "    if guess.isalpha() == False:\n",
    "        print(\"Invalid\")\n",
    "    elif guess > letter:\n",
    "        print(\"Higher\")\n",
    "    elif guess < letter:\n",
    "        print(\"Lower\")\n",
    "    elif guess == letter:\n",
    "        print(\"Correct !\")\n",
    "  \n",
    "\n",
    "test = check_guess(\"A\",\"B\")\n",
    "\n",
    "# [ ] call check_guess with user input\n",
    "\n",
    "\n",
    "\n"
   ]
  }
 ],
 "metadata": {
  "kernelspec": {
   "display_name": "Python 3",
   "language": "python",
   "name": "python3"
  },
  "language_info": {
   "codemirror_mode": {
    "name": "ipython",
    "version": 3
   },
   "file_extension": ".py",
   "mimetype": "text/x-python",
   "name": "python",
   "nbconvert_exporter": "python",
   "pygments_lexer": "ipython3",
   "version": "3.6.5"
  }
 },
 "nbformat": 4,
 "nbformat_minor": 2
}
