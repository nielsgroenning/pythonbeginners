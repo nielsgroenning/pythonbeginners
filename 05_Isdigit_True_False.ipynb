{
 "cells": [
  {
   "cell_type": "code",
   "execution_count": 6,
   "metadata": {},
   "outputs": [
    {
     "name": "stdout",
     "output_type": "stream",
     "text": [
      "Add numberd\n",
      "Only int is accepted\n"
     ]
    }
   ],
   "source": [
    "# [ ] input a number \n",
    "# - if number IS a digit string then cast to int\n",
    "# - print number \"greater than 100 is\" True/False\n",
    "# - if number is NOT a digit string then message the user that \"only int is accepted\"\n",
    "\n",
    "number = input(\"Add number\")\n",
    "if number.isdigit() == True:\n",
    "    print(\"Number is\",int(number))\n",
    "else:\n",
    "    print(\"Only int is accepted\")"
   ]
  }
 ],
 "metadata": {
  "kernelspec": {
   "display_name": "Python 3",
   "language": "python",
   "name": "python3"
  },
  "language_info": {
   "codemirror_mode": {
    "name": "ipython",
    "version": 3
   },
   "file_extension": ".py",
   "mimetype": "text/x-python",
   "name": "python",
   "nbconvert_exporter": "python",
   "pygments_lexer": "ipython3",
   "version": "3.6.5"
  }
 },
 "nbformat": 4,
 "nbformat_minor": 2
}
