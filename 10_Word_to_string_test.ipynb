{
 "cells": [
  {
   "cell_type": "code",
   "execution_count": 1,
   "metadata": {},
   "outputs": [
    {
     "name": "stdout",
     "output_type": "stream",
     "text": [
      "Enter a word that starts with \"Pre\"\"pre\"\n",
      "This is a \"pre\" word\n"
     ]
    }
   ],
   "source": [
    "# [ ] create and test pre_word()\n",
    "\n",
    "def pre_word(string):\n",
    "    if string.startswith(\"\\\"pre\\\"\") == False:\n",
    "        print(\"not a \\\"pre\\\" word\")\n",
    "    else:\n",
    "        print(\"This is a \\\"pre\\\" word\")\n",
    "\n",
    "pre_test = input(\"Enter a word that starts with \\\"Pre\\\"\")\n",
    "        \n",
    "pre_word(pre_test)"
   ]
  },
  {
   "cell_type": "code",
   "execution_count": null,
   "metadata": {},
   "outputs": [],
   "source": []
  }
 ],
 "metadata": {
  "kernelspec": {
   "display_name": "Python 3",
   "language": "python",
   "name": "python3"
  },
  "language_info": {
   "codemirror_mode": {
    "name": "ipython",
    "version": 3
   },
   "file_extension": ".py",
   "mimetype": "text/x-python",
   "name": "python",
   "nbconvert_exporter": "python",
   "pygments_lexer": "ipython3",
   "version": "3.6.5"
  }
 },
 "nbformat": 4,
 "nbformat_minor": 2
}
