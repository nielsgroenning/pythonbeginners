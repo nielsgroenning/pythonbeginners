{
 "cells": [
  {
   "cell_type": "code",
   "execution_count": 3,
   "metadata": {},
   "outputs": [
    {
     "name": "stdout",
     "output_type": "stream",
     "text": [
      "It is (T/F) that an octopus has three heartsT\n",
      "Correct Good Job!\n"
     ]
    }
   ],
   "source": [
    "def function(question, answer):\n",
    "    string_1 = input(question)\n",
    "    answer = answer\n",
    "    if string_1 == answer:\n",
    "        print(\"Correct Good Job!\")\n",
    "    else:\n",
    "        print(\"It is false Try again\")\n",
    "\n",
    "angiv = function(\"It is (T/F) that an octopus has three hearts\",\"T\")"
   ]
  },
  {
   "cell_type": "code",
   "execution_count": null,
   "metadata": {},
   "outputs": [],
   "source": []
  }
 ],
 "metadata": {
  "kernelspec": {
   "display_name": "Python 3",
   "language": "python",
   "name": "python3"
  },
  "language_info": {
   "codemirror_mode": {
    "name": "ipython",
    "version": 3
   },
   "file_extension": ".py",
   "mimetype": "text/x-python",
   "name": "python",
   "nbconvert_exporter": "python",
   "pygments_lexer": "ipython3",
   "version": "3.6.5"
  }
 },
 "nbformat": 4,
 "nbformat_minor": 2
}
