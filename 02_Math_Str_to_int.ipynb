{
 "cells": [
  {
   "cell_type": "code",
   "execution_count": 17,
   "metadata": {},
   "outputs": [
    {
     "name": "stdout",
     "output_type": "stream",
     "text": [
      "Angiv tal 1 34\n",
      "Angiv tal 2 32\n",
      "34 + 32 =  66\n"
     ]
    }
   ],
   "source": [
    "def multiply():\n",
    "    string1 = int(input(\"Angiv første tal \"))\n",
    "    string2 = int(input(\"Angiv tal 2 \"))\n",
    "    result = string1+string2\n",
    "    print(string1,\"+\",string2,\"= \",result)\n",
    "\n",
    "test = multiply()\n"
   ]
  }
 ],
 "metadata": {
  "kernelspec": {
   "display_name": "Python 3",
   "language": "python",
   "name": "python3"
  },
  "language_info": {
   "codemirror_mode": {
    "name": "ipython",
    "version": 3
   },
   "file_extension": ".py",
   "mimetype": "text/x-python",
   "name": "python",
   "nbconvert_exporter": "python",
   "pygments_lexer": "ipython3",
   "version": "3.6.5"
  }
 },
 "nbformat": 4,
 "nbformat_minor": 2
}
