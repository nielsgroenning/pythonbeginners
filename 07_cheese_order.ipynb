{
 "cells": [
  {
   "cell_type": "code",
   "execution_count": 7,
   "metadata": {},
   "outputs": [
    {
     "name": "stdout",
     "output_type": "stream",
     "text": [
      "Enter cheese order weight (numeric value): 56\n",
      "56 costs 280 $\n"
     ]
    }
   ],
   "source": [
    "#set values for maximum and minimum order variables\n",
    "#set value for price variable\n",
    "#get order_amount input and cast to a number\n",
    "#check order_amount and give message checking against\n",
    "#over maximum\n",
    "#under minimum\n",
    "#else within maximum and minimum give message with calculated price\n",
    "\n",
    "\n",
    "max_order = 200\n",
    "min_order = 10\n",
    "price = 5\n",
    "order_amount = int(input(\"Enter cheese order weight (numeric value): \"))\n",
    "if order_amount > max_order:\n",
    "    print(order_amount,\"is more than currently available stock\")\n",
    "elif order_amount < min_order:\n",
    "        print(order_amount,\"is below minimum order amount\")\n",
    "else:\n",
    "    print(order_amount,\"costs\",order_amount*price,\"$\")\n"
   ]
  }
 ],
 "metadata": {
  "kernelspec": {
   "display_name": "Python 3",
   "language": "python",
   "name": "python3"
  },
  "language_info": {
   "codemirror_mode": {
    "name": "ipython",
    "version": 3
   },
   "file_extension": ".py",
   "mimetype": "text/x-python",
   "name": "python",
   "nbconvert_exporter": "python",
   "pygments_lexer": "ipython3",
   "version": "3.6.5"
  }
 },
 "nbformat": 4,
 "nbformat_minor": 2
}
