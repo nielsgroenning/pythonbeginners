{
 "cells": [
  {
   "cell_type": "code",
   "execution_count": 11,
   "metadata": {},
   "outputs": [
    {
     "name": "stdout",
     "output_type": "stream",
     "text": [
      "First Guess: Try and guess the bird? dasd\n",
      "Right First time\n"
     ]
    }
   ],
   "source": [
    "bird_names = (\"Duck\")\n",
    "guess_bird = input(\"First Guess: Try and guess the bird? \")\n",
    "\n",
    "if bird_names in guess_bird:\n",
    "    print(\"correct\")\n",
    "    guess2_bird = input(\"Second Guess: Guess Again: \")\n",
    "    if guess2_bird.title() in bird_names:\n",
    "        print(\"Guess Again\")\n",
    "        guess3_bird = input(\"Third Guess: Guess Again: \")\n",
    "    else: \n",
    "        print(\"Correct\")\n",
    "        if guess3_bird.title() in bird_names:\n",
    "            print(\"You Failed\")\n",
    "        else:\n",
    "            print(\"quit\")            \n",
    "                 \n",
    "else:\n",
    "    print(\"Right First time\")"
   ]
  },
  {
   "cell_type": "code",
   "execution_count": null,
   "metadata": {},
   "outputs": [],
   "source": []
  }
 ],
 "metadata": {
  "kernelspec": {
   "display_name": "Python 3",
   "language": "python",
   "name": "python3"
  },
  "language_info": {
   "codemirror_mode": {
    "name": "ipython",
    "version": 3
   },
   "file_extension": ".py",
   "mimetype": "text/x-python",
   "name": "python",
   "nbconvert_exporter": "python",
   "pygments_lexer": "ipython3",
   "version": "3.6.5"
  }
 },
 "nbformat": 4,
 "nbformat_minor": 2
}
